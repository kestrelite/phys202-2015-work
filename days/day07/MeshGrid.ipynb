{
 "cells": [
  {
   "cell_type": "code",
   "execution_count": 1,
   "metadata": {
    "collapsed": true
   },
   "outputs": [],
   "source": [
    "import numpy as np\n",
    "import matplotlib as plt"
   ]
  },
  {
   "cell_type": "code",
   "execution_count": 2,
   "metadata": {
    "collapsed": true
   },
   "outputs": [],
   "source": [
    "x = np.linspace(1, 5, 5)\n",
    "y = np.linspace(1, 5, 5)"
   ]
  },
  {
   "cell_type": "code",
   "execution_count": 3,
   "metadata": {
    "collapsed": false,
    "scrolled": true
   },
   "outputs": [
    {
     "name": "stdout",
     "output_type": "stream",
     "text": [
      "[ 1.  2.  3.  4.  5.] [ 1.  2.  3.  4.  5.] \n",
      "\n",
      "\n",
      "[[ 1.  2.  3.  4.  5.]\n",
      " [ 1.  2.  3.  4.  5.]\n",
      " [ 1.  2.  3.  4.  5.]\n",
      " [ 1.  2.  3.  4.  5.]\n",
      " [ 1.  2.  3.  4.  5.]] \n",
      "\n",
      " [[ 1.  1.  1.  1.  1.]\n",
      " [ 2.  2.  2.  2.  2.]\n",
      " [ 3.  3.  3.  3.  3.]\n",
      " [ 4.  4.  4.  4.  4.]\n",
      " [ 5.  5.  5.  5.  5.]]\n"
     ]
    }
   ],
   "source": [
    "xv, yv = np.meshgrid(x, y)\n",
    "print(x, y,\"\\n\\n\")\n",
    "print(xv, \"\\n\\n\", yv)"
   ]
  },
  {
   "cell_type": "code",
   "execution_count": 4,
   "metadata": {
    "collapsed": false,
    "scrolled": true
   },
   "outputs": [
    {
     "name": "stdout",
     "output_type": "stream",
     "text": [
      "[[ 1.38177329  1.44959973  0.68142231 -0.21650019 -0.41862197]\n",
      " [ 0.42532415  0.49315059 -0.27502683 -1.17294933 -1.37507111]\n",
      " [-0.14852151 -0.08069507 -0.84887249 -1.74679499 -1.94891677]\n",
      " [ 0.18782736  0.25565381 -0.51252361 -1.41044612 -1.6125679 ]\n",
      " [ 1.12513317  1.19295961  0.42478219 -0.47314031 -0.67526209]]\n"
     ]
    }
   ],
   "source": [
    "print(np.sin(xv)+np.cos(yv))"
   ]
  },
  {
   "cell_type": "code",
   "execution_count": 5,
   "metadata": {
    "collapsed": false,
    "scrolled": true
   },
   "outputs": [
    {
     "data": {
      "text/plain": [
       "array([[ 1.41421356,  2.23606798,  3.16227766,  4.12310563,  5.09901951],\n",
       "       [ 2.23606798,  2.82842712,  3.60555128,  4.47213595,  5.38516481],\n",
       "       [ 3.16227766,  3.60555128,  4.24264069,  5.        ,  5.83095189],\n",
       "       [ 4.12310563,  4.47213595,  5.        ,  5.65685425,  6.40312424],\n",
       "       [ 5.09901951,  5.38516481,  5.83095189,  6.40312424,  7.07106781]])"
      ]
     },
     "execution_count": 5,
     "metadata": {},
     "output_type": "execute_result"
    }
   ],
   "source": [
    "np.sqrt(xv**2+yv**2)"
   ]
  },
  {
   "cell_type": "code",
   "execution_count": 6,
   "metadata": {
    "collapsed": false
   },
   "outputs": [
    {
     "ename": "AttributeError",
     "evalue": "'module' object has no attribute 'contour'",
     "output_type": "error",
     "traceback": [
      "\u001b[1;31m---------------------------------------------------------------------------\u001b[0m",
      "\u001b[1;31mAttributeError\u001b[0m                            Traceback (most recent call last)",
      "\u001b[1;32m<ipython-input-6-549f9175bce3>\u001b[0m in \u001b[0;36m<module>\u001b[1;34m()\u001b[0m\n\u001b[1;32m----> 1\u001b[1;33m \u001b[0mplt\u001b[0m\u001b[1;33m.\u001b[0m\u001b[0mcontour\u001b[0m\u001b[1;33m(\u001b[0m\u001b[0mx\u001b[0m\u001b[1;33m,\u001b[0m \u001b[0my\u001b[0m\u001b[1;33m,\u001b[0m \u001b[0mnp\u001b[0m\u001b[1;33m.\u001b[0m\u001b[0msqrt\u001b[0m\u001b[1;33m(\u001b[0m\u001b[0mxv\u001b[0m\u001b[1;33m**\u001b[0m\u001b[1;36m2\u001b[0m\u001b[1;33m+\u001b[0m\u001b[0myv\u001b[0m\u001b[1;33m**\u001b[0m\u001b[1;36m2\u001b[0m\u001b[1;33m)\u001b[0m\u001b[1;33m)\u001b[0m\u001b[1;33m\u001b[0m\u001b[0m\n\u001b[0m",
      "\u001b[1;31mAttributeError\u001b[0m: 'module' object has no attribute 'contour'"
     ]
    }
   ],
   "source": [
    "plt.contour(x, y, np.sqrt(xv**2+yv**2))"
   ]
  },
  {
   "cell_type": "code",
   "execution_count": null,
   "metadata": {
    "collapsed": true
   },
   "outputs": [],
   "source": []
  }
 ],
 "metadata": {
  "kernelspec": {
   "display_name": "Python 3",
   "language": "python",
   "name": "python3"
  },
  "language_info": {
   "codemirror_mode": {
    "name": "ipython",
    "version": 3
   },
   "file_extension": ".py",
   "mimetype": "text/x-python",
   "name": "python",
   "nbconvert_exporter": "python",
   "pygments_lexer": "ipython3",
   "version": "3.4.0"
  }
 },
 "nbformat": 4,
 "nbformat_minor": 0
}
