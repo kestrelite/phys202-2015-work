{
 "cells": [
  {
   "cell_type": "markdown",
   "metadata": {
    "nbgrader": {}
   },
   "source": [
    "# Project Euler: Problem 59"
   ]
  },
  {
   "cell_type": "markdown",
   "metadata": {
    "nbgrader": {}
   },
   "source": [
    "https://projecteuler.net/problem=59\n",
    "\n",
    "Each character on a computer is assigned a unique code and the preferred standard is ASCII (American Standard Code for Information Interchange). For example, uppercase A = 65, asterisk (*) = 42, and lowercase k = 107.\n",
    "\n",
    "A modern encryption method is to take a text file, convert the bytes to ASCII, then XOR each byte with a given value, taken from a secret key. The advantage with the XOR function is that using the same encryption key on the cipher text, restores the plain text; for example, 65 XOR 42 = 107, then 107 XOR 42 = 65.\n",
    "\n",
    "For unbreakable encryption, the key is the same length as the plain text message, and the key is made up of random bytes. The user would keep the encrypted message and the encryption key in different locations, and without both \"halves\", it is impossible to decrypt the message.\n",
    "\n",
    "Unfortunately, this method is impractical for most users, so the modified method is to use a password as a key. If the password is shorter than the message, which is likely, the key is repeated cyclically throughout the message. The balance for this method is using a sufficiently long password key for security, but short enough to be memorable.\n",
    "\n",
    "Your task has been made easy, as the encryption key consists of three lower case characters. Using cipher.txt (in this directory), a file containing the encrypted ASCII codes, and the knowledge that the plain text must contain common English words, decrypt the message and find the sum of the ASCII values in the original text."
   ]
  },
  {
   "cell_type": "markdown",
   "metadata": {
    "nbgrader": {}
   },
   "source": [
    "The following cell shows examples of how to perform XOR in Python and how to go back and forth between characters and integers:"
   ]
  },
  {
   "cell_type": "code",
   "execution_count": 1,
   "metadata": {
    "collapsed": true,
    "nbgrader": {}
   },
   "outputs": [],
   "source": [
    "assert 65 ^ 42 == 107\n",
    "assert 107 ^ 42 == 65\n",
    "assert ord('a') == 97\n",
    "assert chr(97) == 'a'"
   ]
  },
  {
   "cell_type": "markdown",
   "metadata": {
    "nbgrader": {}
   },
   "source": [
    "Certain functions in the `itertools` module may be useful for computing permutations:"
   ]
  },
  {
   "cell_type": "code",
   "execution_count": 2,
   "metadata": {
    "collapsed": false,
    "nbgrader": {}
   },
   "outputs": [],
   "source": [
    "import re"
   ]
  },
  {
   "cell_type": "code",
   "execution_count": 5,
   "metadata": {
    "collapsed": false,
    "deletable": false,
    "nbgrader": {
     "checksum": "6cff4e8e53b15273846c3aecaea84a3d",
     "solution": true
    }
   },
   "outputs": [
    {
     "name": "stdout",
     "output_type": "stream",
     "text": [
      "107359\n"
     ]
    }
   ],
   "source": [
    "# YOUR CODE HERE\n",
    "charlist = list(range(ord('a'), ord('z')+1))\n",
    "\n",
    "cphtext = \"\"\n",
    "with open(\"cipher.txt\", \"r\") as file:\n",
    "    cphtext = file.read()\n",
    "cpharray = cphtext.split(',')\n",
    "\n",
    "def processText(key, text):\n",
    "    length = len(key)\n",
    "    pos = 0\n",
    "    out = []\n",
    "    for char in text:\n",
    "        keyval = key[pos % length]\n",
    "        pos = pos + 1\n",
    "        out.append(chr(ord(keyval) ^ int(char)))\n",
    "    return \"\".join(out)\n",
    "\n",
    "output = \"\"\n",
    "\n",
    "def getCharSum(text): \n",
    "    sumchar = 0\n",
    "    for char in text:\n",
    "        sumchar += ord(char)\n",
    "    return sumchar\n",
    "\n",
    "for charA in charlist:\n",
    "    for charB in charlist:\n",
    "        for charC in charlist:\n",
    "            key = chr(charA) + chr(charB) + chr(charC)\n",
    "            text = processText(key, cpharray)\n",
    "            if not(\"{\" in text or \"}\" in text or \"|\" in text) and \"faithfulness\" in text:\n",
    "                print(getCharSum(text))"
   ]
  },
  {
   "cell_type": "code",
   "execution_count": 4,
   "metadata": {
    "collapsed": true,
    "deletable": false,
    "nbgrader": {
     "checksum": "dcdf6792a88c661545d3ca651212dba8",
     "grade": true,
     "grade_id": "projecteuler59",
     "points": 10
    }
   },
   "outputs": [],
   "source": [
    "# This cell will be used for grading, leave it at the end of the notebook."
   ]
  }
 ],
 "metadata": {
  "kernelspec": {
   "display_name": "Python 3",
   "language": "python",
   "name": "python3"
  },
  "language_info": {
   "codemirror_mode": {
    "name": "ipython",
    "version": 3
   },
   "file_extension": ".py",
   "mimetype": "text/x-python",
   "name": "python",
   "nbconvert_exporter": "python",
   "pygments_lexer": "ipython3",
   "version": "3.4.0"
  }
 },
 "nbformat": 4,
 "nbformat_minor": 0
}
