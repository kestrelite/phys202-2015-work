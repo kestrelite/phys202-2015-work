{
 "cells": [
  {
   "cell_type": "markdown",
   "metadata": {
    "nbgrader": {}
   },
   "source": [
    "# Algorithms Exercise 1"
   ]
  },
  {
   "cell_type": "markdown",
   "metadata": {
    "nbgrader": {}
   },
   "source": [
    "## Imports"
   ]
  },
  {
   "cell_type": "code",
   "execution_count": 2,
   "metadata": {
    "collapsed": true,
    "nbgrader": {}
   },
   "outputs": [],
   "source": [
    "%matplotlib inline\n",
    "from matplotlib import pyplot as plt\n",
    "import numpy as np"
   ]
  },
  {
   "cell_type": "markdown",
   "metadata": {
    "nbgrader": {}
   },
   "source": [
    "## Word counting"
   ]
  },
  {
   "cell_type": "markdown",
   "metadata": {
    "nbgrader": {}
   },
   "source": [
    "Write a function `tokenize` that takes a string of English text returns a list of words. It should also remove [stop words](http://en.wikipedia.org/wiki/Stop_words), which are common short words that are often removed before natural language processing. Your function should have the following logic:\n",
    "\n",
    "* Split the string into lines using `splitlines`.\n",
    "* Split each line into a list of words and merge the lists for each line.\n",
    "* Use Python's builtin `filter` function to remove all punctuation.\n",
    "* If `stop_words` is a list, remove all occurences of the words in the list.\n",
    "* If `stop_words` is a space delimeted string of words, split them and remove them.\n",
    "* Remove any remaining empty words.\n",
    "* Make all words lowercase."
   ]
  },
  {
   "cell_type": "code",
   "execution_count": 72,
   "metadata": {
    "collapsed": false,
    "nbgrader": {
     "checksum": "6b81e3d18c7d985eb0f20f45b5a1e33a",
     "solution": true
    }
   },
   "outputs": [],
   "source": [
    "def tokenize(s, stop_words=None, punctuation='`~!@#$%^&*()_-+={[}]|\\:;\"<,>.?/}\\t'):\n",
    "    \"\"\"Split a string into a list of words, removing punctuation and stop words.\"\"\"\n",
    "    out = []\n",
    "    for l in s.splitlines():\n",
    "        out.extend(str.split(l))\n",
    "    for i in range(0, len(out)):\n",
    "        out[i] = [x for x in out[i] if not(x in punctuation)]\n",
    "        out[i] = ''.join(out[i]).lower()\n",
    "    if(type(stop_words) == str): stop_words = stop_words.split()\n",
    "    return [x for x in out if not(x in (stop_words or []))]"
   ]
  },
  {
   "cell_type": "code",
   "execution_count": 73,
   "metadata": {
    "collapsed": false,
    "deletable": false,
    "nbgrader": {
     "checksum": "51938ebee4d1863467fba80579b46318",
     "grade": true,
     "grade_id": "algorithmsex01a",
     "points": 2
    }
   },
   "outputs": [],
   "source": [
    "assert tokenize(\"This, is the way; that things will end\", stop_words=['the', 'is']) == \\\n",
    "    ['this', 'way', 'that', 'things', 'will', 'end']\n",
    "wasteland = \"\"\"\n",
    "APRIL is the cruellest month, breeding\n",
    "Lilacs out of the dead land, mixing\n",
    "Memory and desire, stirring\n",
    "Dull roots with spring rain.\n",
    "\"\"\"\n",
    "\n",
    "assert tokenize(wasteland, stop_words='is the of and') == \\\n",
    "    ['april','cruellest','month','breeding','lilacs','out','dead','land',\n",
    "     'mixing','memory','desire','stirring','dull','roots','with','spring',\n",
    "     'rain']"
   ]
  },
  {
   "cell_type": "markdown",
   "metadata": {
    "nbgrader": {}
   },
   "source": [
    "Write a function `count_words` that takes a list of words and returns a dictionary where the keys in the dictionary are the unique words in the list and the values are the word counts."
   ]
  },
  {
   "cell_type": "code",
   "execution_count": 74,
   "metadata": {
    "collapsed": false,
    "nbgrader": {
     "checksum": "a94c1a7e986d4d8d3b80695b02e16015",
     "grade": false,
     "grade_id": "algorithmsex01b",
     "points": 2,
     "solution": true
    }
   },
   "outputs": [],
   "source": [
    "def count_words(data):\n",
    "    out = {}\n",
    "    for w in data:\n",
    "        if w in out: out[w] += 1\n",
    "        else: out[w] = 1\n",
    "    return out"
   ]
  },
  {
   "cell_type": "code",
   "execution_count": 75,
   "metadata": {
    "collapsed": false,
    "deletable": false,
    "nbgrader": {
     "checksum": "77c9b760f563b041b6386781c42dc0e2",
     "grade": true,
     "grade_id": "algorithmsex01b",
     "points": 2
    }
   },
   "outputs": [],
   "source": [
    "assert count_words(tokenize('this and the this from and a a a')) == \\\n",
    "    {'a': 3, 'and': 2, 'from': 1, 'the': 1, 'this': 2}"
   ]
  },
  {
   "cell_type": "markdown",
   "metadata": {
    "nbgrader": {}
   },
   "source": [
    "Write a function `sort_word_counts` that return a list of sorted word counts:\n",
    "\n",
    "* Each element of the list should be a `(word, count)` tuple.\n",
    "* The list should be sorted by the word counts, with the higest counts coming first.\n",
    "* To perform this sort, look at using the `sorted` function with a custom `key` and `reverse`\n",
    "  argument."
   ]
  },
  {
   "cell_type": "code",
   "execution_count": 76,
   "metadata": {
    "collapsed": false,
    "nbgrader": {
     "checksum": "5c68f353c6c5f3e1494e7d2902480ebf",
     "solution": true
    }
   },
   "outputs": [],
   "source": [
    "def sort_word_counts(wc):\n",
    "    \"\"\"Return a list of 2-tuples of (word, count), sorted by count descending.\"\"\"\n",
    "    out = [(x, wc[x]) for x in wc];\n",
    "    return sorted(out, key=lambda k: k[1], reverse=True)"
   ]
  },
  {
   "cell_type": "code",
   "execution_count": 77,
   "metadata": {
    "collapsed": false,
    "deletable": false,
    "nbgrader": {
     "checksum": "e3fd160136fc78f4a7c3fc027d445b4a",
     "grade": true,
     "grade_id": "algorithmsex01c",
     "points": 2
    }
   },
   "outputs": [],
   "source": [
    "assert sort_word_counts(count_words(tokenize('this and a the this this and a a a'))) == \\\n",
    "    [('a', 4), ('this', 3), ('and', 2), ('the', 1)]"
   ]
  },
  {
   "cell_type": "markdown",
   "metadata": {
    "nbgrader": {}
   },
   "source": [
    "Perform a word count analysis on Chapter 1 of Moby Dick, whose text can be found in the file `mobydick_chapter1.txt`:\n",
    "\n",
    "* Read the file into a string.\n",
    "* Tokenize with stop words of `'the of and a to in is it that as'`.\n",
    "* Perform a word count, the sort and save the result in a variable named `swc`."
   ]
  },
  {
   "cell_type": "code",
   "execution_count": 80,
   "metadata": {
    "collapsed": false,
    "deletable": false,
    "nbgrader": {
     "checksum": "6cff4e8e53b15273846c3aecaea84a3d",
     "solution": true
    }
   },
   "outputs": [
    {
     "name": "stdout",
     "output_type": "stream",
     "text": [
      "843\n"
     ]
    }
   ],
   "source": [
    "# YOUR CODE HERE\n",
    "swc = []\n",
    "with open(\"mobydick_chapter1.txt\") as file:\n",
    "    string = file.read()\n",
    "    swc = sort_word_counts(count_words(tokenize(string, stop_words='the of and a to in is it that as')));\n",
    "    \n",
    "print(len(swc))"
   ]
  },
  {
   "cell_type": "code",
   "execution_count": 81,
   "metadata": {
    "collapsed": false,
    "deletable": false,
    "nbgrader": {
     "checksum": "0c74fa7fa2b9ad5a6b54a0b3f04ac9dc",
     "grade": true,
     "grade_id": "algorithmsex01d",
     "points": 2
    }
   },
   "outputs": [
    {
     "ename": "AssertionError",
     "evalue": "",
     "output_type": "error",
     "traceback": [
      "\u001b[1;31m---------------------------------------------------------------------------\u001b[0m",
      "\u001b[1;31mAssertionError\u001b[0m                            Traceback (most recent call last)",
      "\u001b[1;32m<ipython-input-81-79f30673d9f4>\u001b[0m in \u001b[0;36m<module>\u001b[1;34m()\u001b[0m\n\u001b[0;32m      1\u001b[0m \u001b[1;32massert\u001b[0m \u001b[0mswc\u001b[0m\u001b[1;33m[\u001b[0m\u001b[1;36m0\u001b[0m\u001b[1;33m]\u001b[0m\u001b[1;33m==\u001b[0m\u001b[1;33m(\u001b[0m\u001b[1;34m'i'\u001b[0m\u001b[1;33m,\u001b[0m\u001b[1;36m43\u001b[0m\u001b[1;33m)\u001b[0m\u001b[1;33m\u001b[0m\u001b[0m\n\u001b[1;32m----> 2\u001b[1;33m \u001b[1;32massert\u001b[0m \u001b[0mlen\u001b[0m\u001b[1;33m(\u001b[0m\u001b[0mswc\u001b[0m\u001b[1;33m)\u001b[0m\u001b[1;33m==\u001b[0m\u001b[1;36m848\u001b[0m\u001b[1;33m\u001b[0m\u001b[0m\n\u001b[0m",
      "\u001b[1;31mAssertionError\u001b[0m: "
     ]
    }
   ],
   "source": [
    "assert swc[0]==('i',43)\n",
    "assert len(swc)==848"
   ]
  },
  {
   "cell_type": "markdown",
   "metadata": {
    "nbgrader": {}
   },
   "source": [
    "Create a \"Cleveland Style\" [dotplot](http://en.wikipedia.org/wiki/Dot_plot_%28statistics%29) of the counts of the top 50 words using Matplotlib. If you don't know what a dotplot is, you will have to do some research..."
   ]
  },
  {
   "cell_type": "code",
   "execution_count": 124,
   "metadata": {
    "collapsed": false,
    "deletable": false,
    "nbgrader": {
     "checksum": "6cff4e8e53b15273846c3aecaea84a3d",
     "solution": true
    }
   },
   "outputs": [
    {
     "data": {
      "image/png": "[encoded data removed]",
      "text/plain": [
       "<matplotlib.figure.Figure at 0x7f70c7b4b048>"
      ]
     },
     "metadata": {},
     "output_type": "display_data"
    }
   ],
   "source": [
    "# YOUR CODE HERE\n",
    "words = [x[0] for x in swc[:50]]\n",
    "count = [x[1] for x in swc[:50]]\n",
    "%matplotlib inline\n",
    "import matplotlib.pyplot as plt\n",
    "import matplotlib.cm as cm\n",
    "import numpy as np\n",
    "\n",
    "plt.plot(count, 'o')\n",
    "plt.gca().xaxis.set_ticks(range(1,51))\n",
    "plt.gca().xaxis.set_ticklabels(words, rotation=90);\n",
    "plt.gcf().set_size_inches(14,6)\n",
    "for i in range(1,50):\n",
    "    plt.vlines(i, 0, count[i], linestyle='dotted')\n",
    "plt.xlabel(\"Word in Chapter 1\")\n",
    "plt.ylabel(\"Word frequency\")\n",
    "plt.title(\"Dotplot of word frequency in Moby Dick Ch. 1, top 50\");"
   ]
  },
  {
   "cell_type": "code",
   "execution_count": null,
   "metadata": {
    "collapsed": true,
    "deletable": false,
    "nbgrader": {
     "checksum": "481908a47f48647c344ed328c691ba63",
     "grade": true,
     "grade_id": "algorithsex01e",
     "points": 2
    }
   },
   "outputs": [],
   "source": [
    "assert True # use this for grading the dotplot"
   ]
  }
 ],
 "metadata": {
  "kernelspec": {
   "display_name": "Python 3",
   "language": "python",
   "name": "python3"
  },
  "language_info": {
   "codemirror_mode": {
    "name": "ipython",
    "version": 3
   },
   "file_extension": ".py",
   "mimetype": "text/x-python",
   "name": "python",
   "nbconvert_exporter": "python",
   "pygments_lexer": "ipython3",
   "version": "3.4.0"
  }
 },
 "nbformat": 4,
 "nbformat_minor": 0
}
